{
 "cells": [
  {
   "cell_type": "code",
   "execution_count": 1,
   "metadata": {},
   "outputs": [],
   "source": [
    "import numpy as np\n",
    "import matplotlib.pyplot as plt"
   ]
  },
  {
   "cell_type": "code",
   "execution_count": 10,
   "metadata": {},
   "outputs": [
    {
     "data": {
      "text/plain": [
       "array([[ 0.e+00,  2.e+18],\n",
       "       [ 5.e-01, -1.e+18]])"
      ]
     },
     "execution_count": 10,
     "metadata": {},
     "output_type": "execute_result"
    }
   ],
   "source": [
    "A = np.array([[1,2],[5e-19,0.]])\n",
    "np.linalg.inv(A)"
   ]
  },
  {
   "cell_type": "code",
   "execution_count": 2,
   "metadata": {},
   "outputs": [],
   "source": [
    "def MAKE_POS_MATRIX(pos):\n",
    "    x,y,z = pos[0], pos[1], pos[2]\n",
    "    X = np.zeros((N,N))\n",
    "    Y = np.zeros((N,N))\n",
    "    Z = np.zeros((N,N))\n",
    "    for i in range(N):\n",
    "        X[i] = np.roll(x,-i)\n",
    "        Y[i] = np.roll(y,-i)\n",
    "        Z[i] = np.roll(z,-i)\n",
    "    return np.vstack((np.expand_dims(X,axis=0),np.expand_dims(Y,axis=0),np.expand_dims(Z,axis=0)))\n",
    "\n",
    "def MAKE_MASS_MATRIX(mass):\n",
    "    M = np.zeros((N,N))\n",
    "    for i in range(N):\n",
    "        M[i] = np.roll(mass,-i)\n",
    "    return M\n",
    "        \n",
    "def GET_ACCELERATION(X,M):\n",
    "    pos = np.expand_dims(X[:,:,0],axis=2)\n",
    "    return ((((X[:,:,1:]-pos)**2).sum(axis=0))**-1.5*M[:,1:]*(X[:,:,1:]-pos)).sum(axis=2)\n",
    "\n",
    "def DKD_SCHEME(pos,vel,M,dt):\n",
    "    pos += vel*0.5*dt\n",
    "    X = MAKE_POS_MATRIX(pos)\n",
    "    A = GET_ACCELERATION(X,M)\n",
    "    vel += A*dt\n",
    "    pos += vel*0.5*dt\n",
    "    return pos, vel\n",
    "\n",
    "def KDK_SCHEME(pos,vel,M,A,dt):\n",
    "    vel += A*0.5*dt\n",
    "    pos += vel*dt\n",
    "    X = MAKE_POS_MATRIX(pos)\n",
    "    A = GET_ACCELERATION(X,M)\n",
    "    vel += A*0.5*dt\n",
    "    return pos, vel, A"
   ]
  },
  {
   "cell_type": "code",
   "execution_count": 15,
   "metadata": {},
   "outputs": [],
   "source": [
    "N = 3\n",
    "x = np.array([0.0, -3**0.5/2., 3**0.5/2.])\n",
    "y = np.array([1., -0.5, -0.5])\n",
    "z = np.array([0.0, 0.0, 0.0])\n",
    "# x = np.random.normal(loc=5.0, scale=16., size=N)\n",
    "# y = np.random.normal(loc=-4.0, scale=8., size=N)\n",
    "# z = np.random.normal(loc=2.2, scale=4., size=N)\n",
    "pos = np.vstack((x,y,z))\n",
    "vx = np.array([-1./3**0.25,1./3**0.25*0.5,1./3**0.25*0.5])\n",
    "vy = np.array([0.0,-1./3**0.25*3**0.5/2., 1./3**0.25*3**0.5/2.])\n",
    "vz = np.array([0.0,0.0, 0.0])\n",
    "# vx = np.random.normal(loc=0.3, scale=2., size=N)\n",
    "# vy = np.random.normal(loc=-0.1, scale=1.5, size=N)\n",
    "# vz = np.random.normal(loc=-0.45, scale=1.6, size=N)\n",
    "mass = np.array([1.0, 1.0, 1.0])\n",
    "# mass = 10.*np.random.uniform(size=N)\n",
    "vel = np.vstack((vx,vy,vz))\n",
    "M = MAKE_MASS_MATRIX(mass)"
   ]
  },
  {
   "cell_type": "code",
   "execution_count": 92,
   "metadata": {},
   "outputs": [],
   "source": [
    "N = 3\n",
    "x = np.array([0.0, -3**0.5/2., 3**0.5/2.])\n",
    "y = np.array([1., -0.5, -0.5])\n",
    "z = np.array([0.0, 0.0, 0.0])\n",
    "# x = np.random.normal(loc=5.0, scale=16., size=N)\n",
    "# y = np.random.normal(loc=-4.0, scale=8., size=N)\n",
    "# z = np.random.normal(loc=2.2, scale=4., size=N)\n",
    "pos = np.vstack((x,y,z))\n",
    "vx = np.array([-1./3**0.25,1./3**0.25*0.5,1./3**0.25*0.5])\n",
    "vy = np.array([0.0,-1./3**0.25*3**0.5/2., 1./3**0.25*3**0.5/2.])\n",
    "vz = np.array([0.0,0.0, 0.0])\n",
    "# vx = np.random.normal(loc=0.3, scale=2., size=N)\n",
    "# vy = np.random.normal(loc=-0.1, scale=1.5, size=N)\n",
    "# vz = np.random.normal(loc=-0.45, scale=1.6, size=N)\n",
    "mass = np.array([1.0, 1.0, 1.0])\n",
    "# mass = 10.*np.random.uniform(size=N)\n",
    "vel = np.vstack((vx,vy,vz))\n",
    "M = MAKE_MASS_MATRIX(mass)\n",
    "\n",
    "dt = 1e-2\n",
    "t = 0.0\n",
    "end_t = 50.\n",
    "mode = 'DKD'\n",
    "\n",
    "if mode == 'KDK':\n",
    "    X = MAKE_POS_MATRIX(pos)\n",
    "    acc = GET_ACCELERATION(X,M)\n",
    "    while t<end_t:\n",
    "        pos, vel, acc = KDK_SCHEME(pos,vel,M,acc,dt)\n",
    "        t += dt\n",
    "elif mode == 'DKD':\n",
    "    while t<end_t:\n",
    "        pos, vel = DKD_SCHEME(pos,vel,M,dt)\n",
    "        t += dt"
   ]
  },
  {
   "cell_type": "code",
   "execution_count": 93,
   "metadata": {},
   "outputs": [
    {
     "name": "stdout",
     "output_type": "stream",
     "text": [
      "[-0.2957789  -0.67938689  0.97516578]\n",
      "[ 0.95525643 -0.73378025 -0.22147618]\n",
      "[-0.72583792  0.55755242  0.1682855 ]\n",
      "[-0.22474336 -0.5162224   0.74096576]\n"
     ]
    }
   ],
   "source": [
    "theta = np.pi/2 + np.arange(3)*np.pi*2/3\n",
    "theta += 1./3**0.25*t\n",
    "x_analytic = np.cos(theta)\n",
    "y_analytic = np.sin(theta)\n",
    "print(x_analytic)\n",
    "print(y_analytic)\n",
    "vx_analytic = 1./3**0.25*np.cos(theta+np.pi/2)\n",
    "vy_analytic = 1./3**0.25*np.sin(theta+np.pi/2)\n",
    "print(vx_analytic)\n",
    "print(vy_analytic)"
   ]
  },
  {
   "cell_type": "code",
   "execution_count": 94,
   "metadata": {},
   "outputs": [
    {
     "name": "stdout",
     "output_type": "stream",
     "text": [
      "[[-0.2951933  -0.67982622  0.97501952]\n",
      " [ 0.95551739 -0.73321505 -0.22230234]\n",
      " [ 0.          0.          0.        ]]\n",
      "[[-0.72605984  0.55722629  0.16883356]\n",
      " [-0.22418936 -0.5165903   0.74077966]\n",
      " [ 0.          0.          0.        ]]\n"
     ]
    }
   ],
   "source": [
    "print(pos)\n",
    "print(vel)"
   ]
  },
  {
   "cell_type": "code",
   "execution_count": 95,
   "metadata": {},
   "outputs": [
    {
     "data": {
      "text/plain": [
       "array([39.57017897, 41.66457407, 43.75896917])"
      ]
     },
     "execution_count": 95,
     "metadata": {},
     "output_type": "execute_result"
    }
   ],
   "source": [
    "theta"
   ]
  },
  {
   "cell_type": "code",
   "execution_count": 62,
   "metadata": {},
   "outputs": [
    {
     "data": {
      "text/plain": [
       "0.991825"
      ]
     },
     "execution_count": 62,
     "metadata": {},
     "output_type": "execute_result"
    }
   ],
   "source": [
    "0.265**2+0.96**2"
   ]
  },
  {
   "cell_type": "code",
   "execution_count": 24,
   "metadata": {},
   "outputs": [
    {
     "data": {
      "text/plain": [
       "0.09622504486493763"
      ]
     },
     "execution_count": 24,
     "metadata": {},
     "output_type": "execute_result"
    }
   ],
   "source": [
    "1/(2**2*3)*1/3**0.5*2"
   ]
  },
  {
   "cell_type": "code",
   "execution_count": null,
   "metadata": {},
   "outputs": [],
   "source": []
  }
 ],
 "metadata": {
  "kernelspec": {
   "display_name": "Python 3",
   "language": "python",
   "name": "python3"
  },
  "language_info": {
   "codemirror_mode": {
    "name": "ipython",
    "version": 3
   },
   "file_extension": ".py",
   "mimetype": "text/x-python",
   "name": "python",
   "nbconvert_exporter": "python",
   "pygments_lexer": "ipython3",
   "version": "3.7.4"
  }
 },
 "nbformat": 4,
 "nbformat_minor": 2
}

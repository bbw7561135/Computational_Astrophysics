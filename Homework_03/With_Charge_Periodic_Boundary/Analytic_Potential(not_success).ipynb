{
 "cells": [
  {
   "cell_type": "code",
   "execution_count": 1,
   "metadata": {},
   "outputs": [],
   "source": [
    "import time\n",
    "import numpy as np\n",
    "import matplotlib.pyplot as plt\n",
    "from mpl_toolkits import mplot3d\n",
    "from mpl_toolkits.axes_grid1.inset_locator import inset_axes"
   ]
  },
  {
   "cell_type": "code",
   "execution_count": 36,
   "metadata": {},
   "outputs": [],
   "source": [
    "N = 64\n",
    "L = 1.0\n",
    "dx = L/N\n",
    "xx, yy = np.meshgrid(np.arange(N), np.arange(N))\n",
    "qxx, qyy = np.meshgrid(np.arange(-0.5,2.5,1), np.arange(-0.5,2.5,1))\n",
    "qxx = qxx.ravel()\n",
    "qyy = qyy.ravel()"
   ]
  },
  {
   "cell_type": "code",
   "execution_count": 37,
   "metadata": {},
   "outputs": [
    {
     "name": "stderr",
     "output_type": "stream",
     "text": [
      "/home/lab/anaconda3/lib/python3.7/site-packages/ipykernel_launcher.py:1: RuntimeWarning: divide by zero encountered in log\n",
      "  \"\"\"Entry point for launching an IPython kernel.\n"
     ]
    }
   ],
   "source": [
    "b = 1./2./np.pi*np.log(dx*((xx-N//2)**2+(yy-N//2)**2)**0.5)\n",
    "b -= b[0][0]"
   ]
  },
  {
   "cell_type": "code",
   "execution_count": 44,
   "metadata": {},
   "outputs": [
    {
     "data": {
      "text/plain": [
       "(array([-0.0551589 , -0.06021186, -0.06543052, -0.07082612, -0.07641108,\n",
       "        -0.08219917, -0.08820573, -0.0944479 , -0.10094492, -0.1077185 ,\n",
       "        -0.11479321, -0.12219711, -0.1299623 , -0.13812588, -0.14673095,\n",
       "        -0.15582799, -0.1654767 , -0.17574832, -0.18672888, -0.19852353,\n",
       "        -0.21126272, -0.22511101, -0.2402801 , -0.25704875, -0.2757945 ,\n",
       "        -0.29704668, -0.32158052, -0.3505979 , -0.3861123 , -0.43189832,\n",
       "        -0.4964301 , -0.6067479 ]),\n",
       " array([-0.02762822, -0.02782299, -0.0284082 , -0.02938658, -0.03076273,\n",
       "        -0.03254321, -0.0347367 , -0.03735419, -0.04040921, -0.04391814,\n",
       "        -0.04790065, -0.05238017, -0.05738456, -0.06294694, -0.06910672,\n",
       "        -0.07591101, -0.08341639, -0.0916913 , -0.10081924, -0.11090326,\n",
       "        -0.12207209, -0.13448917, -0.1483659 , -0.16398204, -0.18171837,\n",
       "        -0.20211186, -0.22595508, -0.25449186, -0.28984853, -0.33613231,\n",
       "        -0.40272782, -0.51592485]))"
      ]
     },
     "execution_count": 44,
     "metadata": {},
     "output_type": "execute_result"
    }
   ],
   "source": [
    "b[N//2,:N//2], phi.reshape(N,N)[N//2,:N//2]"
   ]
  },
  {
   "cell_type": "code",
   "execution_count": 19,
   "metadata": {},
   "outputs": [],
   "source": [
    "# phi_test = np.zeros(N*N)\n",
    "# for i in range(9):\n",
    "#     phi_test += 1./2./np.pi*np.log(((xx.ravel()-qxx.ravel()[i])**2+(yy.ravel()-qyy[i])**2)**0.5)\n",
    "\n",
    "# phi_test -= phi_test[0]\n",
    "# phi_test[N//2+N*(N//2)] = 0.0"
   ]
  },
  {
   "cell_type": "code",
   "execution_count": 48,
   "metadata": {},
   "outputs": [
    {
     "data": {
      "text/plain": [
       "<matplotlib.image.AxesImage at 0x7f1500ae0b90>"
      ]
     },
     "execution_count": 48,
     "metadata": {},
     "output_type": "execute_result"
    },
    {
     "data": {
      "image/png": "[encoded data removed]",
      "text/plain": [
       "<Figure size 432x288 with 1 Axes>"
      ]
     },
     "metadata": {
      "needs_background": "light"
     },
     "output_type": "display_data"
    }
   ],
   "source": [
    "plt.imshow(b)"
   ]
  },
  {
   "cell_type": "code",
   "execution_count": 51,
   "metadata": {},
   "outputs": [
    {
     "data": {
      "text/plain": [
       "<matplotlib.image.AxesImage at 0x7f150098cb90>"
      ]
     },
     "execution_count": 51,
     "metadata": {},
     "output_type": "execute_result"
    },
    {
     "data": {
      "image/png": "[encoded data removed]",
      "text/plain": [
       "<Figure size 432x288 with 1 Axes>"
      ]
     },
     "metadata": {
      "needs_background": "light"
     },
     "output_type": "display_data"
    }
   ],
   "source": [
    "plt.imshow(phi.reshape(N,N))"
   ]
  },
  {
   "cell_type": "code",
   "execution_count": 21,
   "metadata": {},
   "outputs": [],
   "source": [
    "def LAPLACIAN_JACOBI(phi_old, source, neighbor_r, neighbor_l, neighbor_u, neighbor_d, idx):\n",
    "    return 0.25*(phi_old[neighbor_r[idx]]+phi_old[neighbor_l[idx]]+phi_old[neighbor_u[idx]]\\\n",
    "                 +phi_old[neighbor_d[idx]]-dx**2*source[idx])\n",
    "    \n",
    "def LAPLACIAN_GAUSS_SEIDEL(phi_old, source, neighbor_r, neighbor_l, neighbor_u, neighbor_d, idx_even, idx_odd):\n",
    "    phi_old[idx_even] = 0.25*(phi_old[neighbor_r[idx_even]]+phi_old[neighbor_l[idx_even]]\\\n",
    "                              +phi_old[neighbor_u[idx_even]]+phi_old[neighbor_d[idx_even]]-dx**2*source[idx_even])\n",
    "    phi_old[idx_odd] = 0.25*(phi_old[neighbor_r[idx_odd]]+phi_old[neighbor_l[idx_odd]]\\\n",
    "                             +phi_old[neighbor_u[idx_odd]]+phi_old[neighbor_d[idx_odd]]-dx**2*source[idx_odd])\n",
    "    return phi_old\n",
    "\n",
    "def LAPLACIAN_SUCCESSIVE_OVER_RELAXATION(phi_old, omega, source, neighbor_r, neighbor_l, neighbor_u, neighbor_d, idx_even, idx_odd):\n",
    "    phi_old[idx_even] += 0.25*omega*(phi_old[neighbor_r[idx_even]]+phi_old[neighbor_l[idx_even]]+phi_old[neighbor_u[idx_even]]\\\n",
    "                                     +phi_old[neighbor_d[idx_even]]-dx**2*source[idx_even]-4.*phi_old[idx_even])\n",
    "    phi_old[idx_odd] += 0.25*omega*(phi_old[neighbor_r[idx_odd]]+phi_old[neighbor_l[idx_odd]]+phi_old[neighbor_u[idx_odd]]\\\n",
    "                                     +phi_old[neighbor_d[idx_odd]]-dx**2*source[idx_odd]-4.*phi_old[idx_odd])\n",
    "    return phi_old\n",
    "    \n",
    "def CALCULATE_CRITERIA(phi, source, neighbor_r, neighbor_l, neighbor_u, neighbor_d):\n",
    "    diff = (1./dx**2*(phi[neighbor_r]+phi[neighbor_l]+phi[neighbor_u]+phi[neighbor_d]-4.*phi)-source)\n",
    "    return (diff**2).mean()"
   ]
  },
  {
   "cell_type": "code",
   "execution_count": 38,
   "metadata": {},
   "outputs": [
    {
     "name": "stderr",
     "output_type": "stream",
     "text": [
      "/home/lab/anaconda3/lib/python3.7/site-packages/ipykernel_launcher.py:14: RuntimeWarning: invalid value encountered in true_divide\n",
      "  \n"
     ]
    },
    {
     "name": "stdout",
     "output_type": "stream",
     "text": [
      "Iteration = 10000, error = 8.85500159e-01 , criteria = 1.0000e-20 .\n",
      "Iteration = 20000, error = 2.96686843e-02 , criteria = 1.0000e-20 .\n",
      "Iteration = 30000, error = 9.94049320e-04 , criteria = 1.0000e-20 .\n",
      "Iteration = 40000, error = 3.33056242e-05 , criteria = 1.0000e-20 .\n",
      "Iteration = 50000, error = 1.11590499e-06 , criteria = 1.0000e-20 .\n",
      "Iteration = 60000, error = 3.73883987e-08 , criteria = 1.0000e-20 .\n",
      "Iteration = 70000, error = 1.25269836e-09 , criteria = 1.0000e-20 .\n",
      "Iteration = 80000, error = 4.19716608e-11 , criteria = 1.0000e-20 .\n",
      "Iteration = 90000, error = 1.40626057e-12 , criteria = 1.0000e-20 .\n",
      "Iteration = 100000, error = 4.71167628e-14 , criteria = 1.0000e-20 .\n",
      "Iteration = 110000, error = 1.57864724e-15 , criteria = 1.0000e-20 .\n",
      "Iteration = 120000, error = 5.28924826e-17 , criteria = 1.0000e-20 .\n",
      "Iteration = 130000, error = 1.77220526e-18 , criteria = 1.0000e-20 .\n",
      "Iteration = 140000, error = 5.93077625e-20 , criteria = 1.0000e-20 .\n",
      "Simulation of SOR scheme ends. Total 17.51 s is spent.\n",
      "Error 9.99840457e-21 has been reached, total iterations is 145233 .\n"
     ]
    }
   ],
   "source": [
    "L = 1.0\n",
    "N = 64\n",
    "dx = L/N\n",
    "xx, yy = np.meshgrid(dx*np.arange(N), dx*np.arange(N))\n",
    "rho = np.zeros((N,N))\n",
    "rho[N//2, N//2] = 1./dx**2\n",
    "kxx, kyy = np.meshgrid(np.arange(N), np.arange(N))\n",
    "kxx = kxx[:,:N//2+1]\n",
    "kyy = kyy[:,:N//2+1]\n",
    "\n",
    "rho_k = np.fft.rfft2(rho)\n",
    "rho_k[0,0] = 0.0\n",
    "rho = np.fft.irfft2(rho_k)\n",
    "phi_k = dx**2*rho_k/2./(np.cos(2.*np.pi*kxx/N)+np.cos(2.*np.pi*kyy/N)-2.)\n",
    "phi_k[0,0] = 0.0\n",
    "phi_analytic = np.fft.irfft2(phi_k)\n",
    "phi_analytic -= phi_analytic[0,0]\n",
    "\n",
    "phi = np.zeros(N*N)\n",
    "rho = rho.ravel()\n",
    "\n",
    "neighbor_r = np.arange(N*N)\n",
    "neighbor_l = np.arange(N*N)\n",
    "neighbor_u = np.arange(N*N)\n",
    "neighbor_d = np.arange(N*N)\n",
    "neighbor_r = N*(neighbor_r//N) + (neighbor_r%N+1)%N\n",
    "neighbor_l = N*(neighbor_l//N) + (neighbor_l%N+N-1)%N\n",
    "neighbor_u = N*((neighbor_u//N+1)%N) + neighbor_u%N\n",
    "neighbor_d = N*((neighbor_d//N+N-1)%N) + neighbor_d%N\n",
    "\n",
    "iteration = 0\n",
    "iteration_max = 4000000\n",
    "show_error_interval = 10000\n",
    "# mode = 'jacobi'\n",
    "# mode = 'gauss_seidel'\n",
    "mode = 'SOR'\n",
    "\n",
    "error = CALCULATE_CRITERIA(phi, rho, neighbor_r, neighbor_l, neighbor_u, neighbor_d)\n",
    "# criteria = 100*CALCULATE_CRITERIA(phi_analytic.ravel(), rho, neighbor_r, neighbor_l, neighbor_u, neighbor_d)\n",
    "criteria = 1e-20\n",
    "error_cache = error\n",
    "if mode=='jacobi':\n",
    "    phi_copy = np.empty(N*N)\n",
    "    idx = np.arange(1,N*N)\n",
    "    flag = True\n",
    "elif mode=='gauss_seidel' or mode=='SOR':\n",
    "    idx_all = np.arange(1,N*N)\n",
    "    idx_even = idx_all[idx_all%2==0]\n",
    "    idx_odd = idx_all[idx_all%2==1]\n",
    "    if mode == 'SOR':\n",
    "        omega = 1.33\n",
    "start = time.time()\n",
    "while error>criteria and iteration<iteration_max:\n",
    "    if mode=='jacobi':\n",
    "        if flag:\n",
    "            phi_copy[idx] = LAPLACIAN_JACOBI(phi, rho, neighbor_r, neighbor_l, neighbor_u, neighbor_d, idx)\n",
    "            error = CALCULATE_CRITERIA(phi_copy, rho, neighbor_r, neighbor_l, neighbor_u, neighbor_d)\n",
    "        else:\n",
    "            phi[idx]  = LAPLACIAN_JACOBI(phi, rho, neighbor_r, neighbor_l, neighbor_u, neighbor_d, idx)\n",
    "            error = CALCULATE_CRITERIA(phi, rho, neighbor_r, neighbor_l, neighbor_u, neighbor_d)\n",
    "        flag = not flag\n",
    "    elif mode=='gauss_seidel':\n",
    "        phi = LAPLACIAN_GAUSS_SEIDEL(phi, rho, neighbor_r, neighbor_l, neighbor_u, neighbor_d, idx_even, idx_odd)\n",
    "        error = CALCULATE_CRITERIA(phi, rho, neighbor_r, neighbor_l, neighbor_u, neighbor_d)\n",
    "    else:\n",
    "        phi = LAPLACIAN_SUCCESSIVE_OVER_RELAXATION(phi, omega, rho, neighbor_r, neighbor_l, neighbor_u, neighbor_d, idx_even, idx_odd)\n",
    "        error = CALCULATE_CRITERIA(phi, rho, neighbor_r, neighbor_l, neighbor_u, neighbor_d)\n",
    "    iteration += 1\n",
    "    if iteration%show_error_interval == 0:\n",
    "        print(\"Iteration = %d, error = %.8e , criteria = %.4e .\"%(iteration, error, criteria))\n",
    "        if error_cache<error:\n",
    "            break\n",
    "        else:\n",
    "            error_cache = error\n",
    "if mode=='jacobi':\n",
    "    if flag:\n",
    "        phi = phi.copy()\n",
    "end = time.time()\n",
    "print(\"Simulation of %s scheme ends. Total %.2f s is spent.\"%(mode, end-start))\n",
    "print(\"Error %.8e has been reached, total iterations is %d .\"%(error, iteration))"
   ]
  },
  {
   "cell_type": "code",
   "execution_count": 54,
   "metadata": {},
   "outputs": [],
   "source": [
    "from scipy.optimize import curve_fit\n",
    "\n",
    "def f(x, a, b):\n",
    "    return a+b*np.log(x)"
   ]
  },
  {
   "cell_type": "code",
   "execution_count": 65,
   "metadata": {},
   "outputs": [
    {
     "data": {
      "text/plain": [
       "array([0.12639189, 0.16114542])"
      ]
     },
     "execution_count": 65,
     "metadata": {},
     "output_type": "execute_result"
    }
   ],
   "source": [
    "popt, pcov = curve_fit(f, dx*np.arange(1,N//2+1), np.flip(phi.reshape(N,N)[N//2,:N//2]))\n",
    "popt"
   ]
  },
  {
   "cell_type": "code",
   "execution_count": 68,
   "metadata": {},
   "outputs": [],
   "source": [
    "# np.savetxt('phi_field_q=1_N=128_SOR_omega=1.33.txt',phi.reshape(N,N))"
   ]
  },
  {
   "cell_type": "code",
   "execution_count": 66,
   "metadata": {},
   "outputs": [
    {
     "data": {
      "text/plain": [
       "0.15915494309189535"
      ]
     },
     "execution_count": 66,
     "metadata": {},
     "output_type": "execute_result"
    }
   ],
   "source": [
    "1./2./np.pi"
   ]
  },
  {
   "cell_type": "code",
   "execution_count": 63,
   "metadata": {},
   "outputs": [
    {
     "data": {
      "text/plain": [
       "[<matplotlib.lines.Line2D at 0x7fee97101f90>]"
      ]
     },
     "execution_count": 63,
     "metadata": {},
     "output_type": "execute_result"
    },
    {
     "data": {
      "image/png": "[encoded data removed]",
      "text/plain": [
       "<Figure size 432x288 with 1 Axes>"
      ]
     },
     "metadata": {
      "needs_background": "light"
     },
     "output_type": "display_data"
    }
   ],
   "source": [
    "plt.plot(dx*np.arange(N//2+1),np.flip(phi.reshape(N,N)[N//2,:N//2+1]))"
   ]
  },
  {
   "cell_type": "code",
   "execution_count": 46,
   "metadata": {},
   "outputs": [
    {
     "data": {
      "text/plain": [
       "<matplotlib.image.AxesImage at 0x7f1500cdb790>"
      ]
     },
     "execution_count": 46,
     "metadata": {},
     "output_type": "execute_result"
    },
    {
     "data": {
      "image/png": "[encoded data removed]",
      "text/plain": [
       "<Figure size 432x288 with 1 Axes>"
      ]
     },
     "metadata": {
      "needs_background": "light"
     },
     "output_type": "display_data"
    }
   ],
   "source": [
    "plt.imshow(phi.reshape(N,N))"
   ]
  },
  {
   "cell_type": "code",
   "execution_count": 41,
   "metadata": {},
   "outputs": [
    {
     "data": {
      "text/plain": [
       "(array([[ 0.        , -0.00390625, -0.0140056 , -0.02543986, -0.03098739,\n",
       "         -0.02543986, -0.0140056 , -0.00390625],\n",
       "        [-0.00390625, -0.0086222 , -0.02115065, -0.03619573, -0.04434743,\n",
       "         -0.03619573, -0.02115065, -0.0086222 ],\n",
       "        [-0.0140056 , -0.02115065, -0.04140406, -0.06946998, -0.08963585,\n",
       "         -0.06946998, -0.04140406, -0.02115065],\n",
       "        [-0.02543986, -0.03619573, -0.06946998, -0.12626926, -0.19088104,\n",
       "         -0.12626926, -0.06946998, -0.03619573],\n",
       "        [-0.03098739, -0.04434743, -0.08963585, -0.19088104, -0.43697479,\n",
       "         -0.19088104, -0.08963585, -0.04434743],\n",
       "        [-0.02543986, -0.03619573, -0.06946998, -0.12626926, -0.19088104,\n",
       "         -0.12626926, -0.06946998, -0.03619573],\n",
       "        [-0.0140056 , -0.02115065, -0.04140406, -0.06946998, -0.08963585,\n",
       "         -0.06946998, -0.04140406, -0.02115065],\n",
       "        [-0.00390625, -0.0086222 , -0.02115065, -0.03619573, -0.04434743,\n",
       "         -0.03619573, -0.02115065, -0.0086222 ]]),\n",
       " array([[ 0.        , -0.03037275, -0.05873849, -0.08009089, -0.08820573,\n",
       "         -0.08009089, -0.05873849, -0.03037275],\n",
       "        [-0.03037275, -0.06209141, -0.09345848, -0.1185763 , -0.12858169,\n",
       "         -0.1185763 , -0.09345848, -0.06209141],\n",
       "        [-0.05873849, -0.09345848, -0.13371592, -0.17275563, -0.19118704,\n",
       "         -0.17275563, -0.13371592, -0.09345848],\n",
       "        [-0.08009089, -0.1185763 , -0.17275563, -0.24576189, -0.30106642,\n",
       "         -0.24576189, -0.17275563, -0.1185763 ],\n",
       "        [-0.08820573, -0.12858169, -0.19118704, -0.30106642,  0.        ,\n",
       "         -0.30106642, -0.19118704, -0.12858169],\n",
       "        [-0.08009089, -0.1185763 , -0.17275563, -0.24576189, -0.30106642,\n",
       "         -0.24576189, -0.17275563, -0.1185763 ],\n",
       "        [-0.05873849, -0.09345848, -0.13371592, -0.17275563, -0.19118704,\n",
       "         -0.17275563, -0.13371592, -0.09345848],\n",
       "        [-0.03037275, -0.06209141, -0.09345848, -0.1185763 , -0.12858169,\n",
       "         -0.1185763 , -0.09345848, -0.06209141]]))"
      ]
     },
     "execution_count": 41,
     "metadata": {},
     "output_type": "execute_result"
    }
   ],
   "source": [
    "phi.reshape(8,8), phi_test.reshape(8,8)"
   ]
  },
  {
   "cell_type": "code",
   "execution_count": null,
   "metadata": {},
   "outputs": [],
   "source": []
  }
 ],
 "metadata": {
  "kernelspec": {
   "display_name": "Python 3",
   "language": "python",
   "name": "python3"
  },
  "language_info": {
   "codemirror_mode": {
    "name": "ipython",
    "version": 3
   },
   "file_extension": ".py",
   "mimetype": "text/x-python",
   "name": "python",
   "nbconvert_exporter": "python",
   "pygments_lexer": "ipython3",
   "version": "3.7.4"
  }
 },
 "nbformat": 4,
 "nbformat_minor": 2
}

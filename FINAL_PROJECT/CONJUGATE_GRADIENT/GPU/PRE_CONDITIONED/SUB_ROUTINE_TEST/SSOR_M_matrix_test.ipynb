{
 "cells": [
  {
   "cell_type": "code",
   "execution_count": 6,
   "metadata": {},
   "outputs": [],
   "source": [
    "import numpy as np"
   ]
  },
  {
   "cell_type": "code",
   "execution_count": 122,
   "metadata": {},
   "outputs": [],
   "source": [
    "N = 4\n",
    "h = 1/(N-1)\n",
    "photon_mass = 1e-8\n",
    "omega = 1.63\n",
    "C = np.zeros((N*N,N*N))\n",
    "L = np.zeros_like(C)\n",
    "D = np.zeros_like(C)\n",
    "U = np.zeros_like(C)\n",
    "\n",
    "for i in range(N*N):\n",
    "    x = i%N\n",
    "    y = i//N\n",
    "    if x!=0 and x!=N-1 and y!=0 and y!=N-1:\n",
    "        C[i,i] = -(4-(photon_mass*h)**2.)\n",
    "        C[i,i+1] = 1.\n",
    "        C[i,i-1] = 1.\n",
    "        C[i,i+N] = 1.\n",
    "        C[i,i-N] = 1.\n",
    "        \n",
    "        D[i,i] = -(4-(photon_mass*h)**2.)\n",
    "        L[i,i-1] = 1.\n",
    "        L[i,i-N] = 1.\n",
    "        U[i,i+1] = 1.\n",
    "        U[i,i+N] = 1.\n",
    "    else:\n",
    "        C[i,i] = 1.\n",
    "        D[i,i] = 1."
   ]
  },
  {
   "cell_type": "code",
   "execution_count": 172,
   "metadata": {},
   "outputs": [],
   "source": [
    "data = np.loadtxt(\"./x_prime.txt\")\n",
    "x_prime = data[:,0]\n",
    "x_sol = data[:,1]"
   ]
  },
  {
   "cell_type": "code",
   "execution_count": 173,
   "metadata": {},
   "outputs": [],
   "source": [
    "temp = np.linalg.inv(D)@((D+omega*U)@x_prime)\n",
    "x = (D+omega*L)@temp\n",
    "x /= omega*(2.-omega)\n",
    "# x = np.linalg.inv(D)@((D+omega*U)@x_prime)\n",
    "# x /= omega*(2.-omega)"
   ]
  },
  {
   "cell_type": "code",
   "execution_count": 174,
   "metadata": {},
   "outputs": [
    {
     "data": {
      "text/plain": [
       "9.513676013615056e-17"
      ]
     },
     "execution_count": 174,
     "metadata": {},
     "output_type": "execute_result"
    }
   ],
   "source": [
    "diff = ((x-x_sol)**2).sum()/N*N\n",
    "diff"
   ]
  },
  {
   "cell_type": "code",
   "execution_count": 184,
   "metadata": {},
   "outputs": [],
   "source": [
    "temp_sol = np.zeros(N*N)\n",
    "x_prime_sol = np.zeros(N*N)\n",
    "\n",
    "for i in range(N*N):\n",
    "    i_x = i%N\n",
    "    i_y = i//N\n",
    "    if i_x!=0 and i_x!=N-1 and i_y!=0 and i_y!=N-1:\n",
    "        temp_sol[i] = -(x[i]-omega*(temp_sol[i-1]+temp_sol[i-N]))/(4.-(photon_mass*h)**2)\n",
    "    else:\n",
    "        temp_sol[i] = x[i]\n",
    "temp_sol *= (2.-omega)*omega\n",
    "for i in range(N*N-1,-1,-1):\n",
    "    i_x = i%N\n",
    "    i_y = i//N\n",
    "    if i_x!=0 and i_x!=N-1 and i_y!=0 and i_y!=N-1:\n",
    "        temp_sol[i] *= -4.+(photon_mass*h)**2\n",
    "        x_prime_sol[i] = -(temp_sol[i]-omega*(x_prime_sol[i+1]+x_prime_sol[i+N]))/(4.-(photon_mass*h)**2)\n",
    "    else:\n",
    "        x_prime_sol[i] = temp_sol[i]"
   ]
  },
  {
   "cell_type": "code",
   "execution_count": 185,
   "metadata": {},
   "outputs": [
    {
     "data": {
      "text/plain": [
       "array([0.68524626, 0.60932869, 0.19461038, 0.69965518, 0.12157737,\n",
       "       0.06199167, 0.88171988, 0.33953453, 0.68964339, 0.82231941,\n",
       "       0.16014736, 0.93404279, 0.49088236, 0.23862833, 0.62222854,\n",
       "       0.59475492])"
      ]
     },
     "execution_count": 185,
     "metadata": {},
     "output_type": "execute_result"
    }
   ],
   "source": [
    "x_prime_sol"
   ]
  },
  {
   "cell_type": "code",
   "execution_count": 186,
   "metadata": {},
   "outputs": [
    {
     "data": {
      "text/plain": [
       "array([0.68524626, 0.60932869, 0.19461038, 0.69965518, 0.12157737,\n",
       "       0.06199167, 0.88171988, 0.33953453, 0.68964339, 0.82231941,\n",
       "       0.16014736, 0.93404279, 0.49088236, 0.23862833, 0.62222854,\n",
       "       0.59475492])"
      ]
     },
     "execution_count": 186,
     "metadata": {},
     "output_type": "execute_result"
    }
   ],
   "source": [
    "x_prime"
   ]
  },
  {
   "cell_type": "code",
   "execution_count": null,
   "metadata": {},
   "outputs": [],
   "source": []
  }
 ],
 "metadata": {
  "kernelspec": {
   "display_name": "Python 3",
   "language": "python",
   "name": "python3"
  },
  "language_info": {
   "codemirror_mode": {
    "name": "ipython",
    "version": 3
   },
   "file_extension": ".py",
   "mimetype": "text/x-python",
   "name": "python",
   "nbconvert_exporter": "python",
   "pygments_lexer": "ipython3",
   "version": "3.7.4"
  }
 },
 "nbformat": 4,
 "nbformat_minor": 2
}

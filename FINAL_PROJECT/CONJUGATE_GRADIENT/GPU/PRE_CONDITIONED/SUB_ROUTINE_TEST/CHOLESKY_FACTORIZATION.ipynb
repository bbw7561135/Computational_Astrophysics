{
 "cells": [
  {
   "cell_type": "code",
   "execution_count": 1,
   "metadata": {},
   "outputs": [],
   "source": [
    "import numpy as np"
   ]
  },
  {
   "cell_type": "code",
   "execution_count": 2,
   "metadata": {},
   "outputs": [],
   "source": [
    "N = 5\n",
    "B = np.random.normal(loc=0.0, scale=5.0, size=(N,N))"
   ]
  },
  {
   "cell_type": "code",
   "execution_count": 3,
   "metadata": {},
   "outputs": [],
   "source": [
    "def CHOLESKY_FACTORIZE(A):\n",
    "    N = A.shape[0]\n",
    "    A_copy = A.copy()\n",
    "    R = np.zeros_like(A_copy)\n",
    "    for k in range(N-1):\n",
    "        R[k,k] = A_copy[k,k]**0.5\n",
    "        for j in range(k+1,N):\n",
    "            R[k,j] = A_copy[k,j]/R[k,k]\n",
    "        for i in range(k+1,N):\n",
    "            for j in range(i,N):\n",
    "                A_copy[i,j] = A_copy[i,j]-R[k,i]*R[k,j]\n",
    "    R[-1,-1] = A_copy[-1,-1]**0.5\n",
    "    return R\n",
    "\n",
    "def INCOMPLETE_CHOLESKY_FACTORIZE(A):\n",
    "    N = A.shape[0]\n",
    "    A_copy = A.copy()\n",
    "    R = np.zeros_like(A_copy)\n",
    "    for k in range(N-1):\n",
    "        R[k,k] = A_copy[k,k]**0.5\n",
    "        for j in range(k+1,N):\n",
    "            R[k,j] = A_copy[k,j]/R[k,k]\n",
    "        for i in range(k+1,N):\n",
    "            for j in range(i,N):\n",
    "                if A[i,j] != 0.0:\n",
    "                    A_copy[i,j] = A_copy[i,j]-R[k,i]*R[k,j]\n",
    "    R[-1,-1] = A_copy[-1,-1]**0.5\n",
    "    return R"
   ]
  },
  {
   "cell_type": "code",
   "execution_count": 137,
   "metadata": {},
   "outputs": [],
   "source": [
    "A = B.T@B\n",
    "R = CHOLESKY_FACTORIZE(A)"
   ]
  },
  {
   "cell_type": "code",
   "execution_count": 138,
   "metadata": {},
   "outputs": [
    {
     "data": {
      "text/plain": [
       "2.2827394935751904e-15"
      ]
     },
     "execution_count": 138,
     "metadata": {},
     "output_type": "execute_result"
    }
   ],
   "source": [
    "((abs(R.T@R-A)**2).sum())**0.5/N/N"
   ]
  },
  {
   "cell_type": "code",
   "execution_count": 139,
   "metadata": {},
   "outputs": [
    {
     "data": {
      "text/plain": [
       "array([[ 11.7324971 ,  -3.39100801,   3.02029951,   1.45805277,\n",
       "          2.14697404],\n",
       "       [  0.        ,  11.28449313,   6.88512462,  -2.1991585 ,\n",
       "          0.95026195],\n",
       "       [  0.        ,   0.        ,  10.18755961, -14.11875852,\n",
       "         -7.77106182],\n",
       "       [  0.        ,   0.        ,   0.        ,   4.4860285 ,\n",
       "        -11.58482244],\n",
       "       [  0.        ,   0.        ,   0.        ,   0.        ,\n",
       "          2.60850602]])"
      ]
     },
     "execution_count": 139,
     "metadata": {},
     "output_type": "execute_result"
    }
   ],
   "source": [
    "R"
   ]
  },
  {
   "cell_type": "code",
   "execution_count": 140,
   "metadata": {},
   "outputs": [
    {
     "data": {
      "text/plain": [
       "array([[ 11.7324971 ,   0.        ,   0.        ,   0.        ,\n",
       "          0.        ],\n",
       "       [ -3.39100801,  11.28449313,   0.        ,   0.        ,\n",
       "          0.        ],\n",
       "       [  3.02029951,   6.88512462,  10.18755961,   0.        ,\n",
       "          0.        ],\n",
       "       [  1.45805277,  -2.1991585 , -14.11875852,   4.4860285 ,\n",
       "          0.        ],\n",
       "       [  2.14697404,   0.95026195,  -7.77106182, -11.58482244,\n",
       "          2.60850602]])"
      ]
     },
     "execution_count": 140,
     "metadata": {},
     "output_type": "execute_result"
    }
   ],
   "source": [
    "R = np.linalg.cholesky(A)\n",
    "R"
   ]
  },
  {
   "cell_type": "code",
   "execution_count": 37,
   "metadata": {},
   "outputs": [],
   "source": [
    "N = 16\n",
    "h = 1/(N-1)\n",
    "photon_mass = 1e-8\n",
    "omega = 1.63\n",
    "C = np.zeros((N*N,N*N))\n",
    "\n",
    "for i in range(N*N):\n",
    "    x = i%N\n",
    "    y = i//N\n",
    "    if x!=0 and x!=N-1 and y!=0 and y!=N-1:\n",
    "            C[i,i] = (4-(photon_mass*h)**2.)\n",
    "            if x<N-2:\n",
    "                C[i,i+1] = -1.\n",
    "            if x>1:\n",
    "                C[i,i-1] = -1.\n",
    "            if y<N-2:\n",
    "                C[i,i+N] = -1.\n",
    "            if y>1:\n",
    "                C[i,i-N] = -1.\n",
    "    else:\n",
    "        C[i,i] = 1."
   ]
  },
  {
   "cell_type": "code",
   "execution_count": 38,
   "metadata": {},
   "outputs": [
    {
     "data": {
      "text/plain": [
       "1.2474876648081663e-19"
      ]
     },
     "execution_count": 38,
     "metadata": {},
     "output_type": "execute_result"
    }
   ],
   "source": [
    "R = np.linalg.cholesky(C)\n",
    "((abs(R@R.T-C)**2).sum())**0.5/N**4"
   ]
  },
  {
   "cell_type": "code",
   "execution_count": 154,
   "metadata": {},
   "outputs": [],
   "source": [
    "R = CHOLESKY_FACTORIZE(C)"
   ]
  },
  {
   "cell_type": "code",
   "execution_count": 155,
   "metadata": {},
   "outputs": [
    {
     "data": {
      "text/plain": [
       "3.524681822991667e-18"
      ]
     },
     "execution_count": 155,
     "metadata": {},
     "output_type": "execute_result"
    }
   ],
   "source": [
    "((abs(R.T@R-C)**2).sum())**0.5/N**4"
   ]
  },
  {
   "cell_type": "code",
   "execution_count": 39,
   "metadata": {},
   "outputs": [],
   "source": [
    "R = INCOMPLETE_CHOLESKY_FACTORIZE(C)"
   ]
  },
  {
   "cell_type": "code",
   "execution_count": 40,
   "metadata": {},
   "outputs": [],
   "source": [
    "data_x = np.loadtxt('x_prime_IC.txt')\n",
    "x_prime = data_x[:,0]\n",
    "x = data_x[:,1]"
   ]
  },
  {
   "cell_type": "code",
   "execution_count": 41,
   "metadata": {},
   "outputs": [],
   "source": [
    "x_sol = R.T@(R@x_prime)"
   ]
  },
  {
   "cell_type": "code",
   "execution_count": 44,
   "metadata": {},
   "outputs": [],
   "source": [
    "# x_sol, x"
   ]
  },
  {
   "cell_type": "code",
   "execution_count": 43,
   "metadata": {},
   "outputs": [
    {
     "data": {
      "text/plain": [
       "5.044453734803011e-13"
      ]
     },
     "execution_count": 43,
     "metadata": {},
     "output_type": "execute_result"
    }
   ],
   "source": [
    "((abs(x_sol-x)**2).sum())**0.5/N**4"
   ]
  },
  {
   "cell_type": "code",
   "execution_count": null,
   "metadata": {},
   "outputs": [],
   "source": []
  }
 ],
 "metadata": {
  "kernelspec": {
   "display_name": "Python 3",
   "language": "python",
   "name": "python3"
  },
  "language_info": {
   "codemirror_mode": {
    "name": "ipython",
    "version": 3
   },
   "file_extension": ".py",
   "mimetype": "text/x-python",
   "name": "python",
   "nbconvert_exporter": "python",
   "pygments_lexer": "ipython3",
   "version": "3.7.4"
  }
 },
 "nbformat": 4,
 "nbformat_minor": 2
}
